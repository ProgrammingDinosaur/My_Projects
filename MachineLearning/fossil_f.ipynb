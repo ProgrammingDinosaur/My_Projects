{
 "cells": [
  {
   "cell_type": "code",
   "execution_count": 1,
   "metadata": {},
   "outputs": [],
   "source": [
    "import tensorflow\n",
    "import tensorflow.keras as keras\n",
    "import numpy as np\n",
    "import pandas as pd\n",
    "import matplotlib.pyplot as plt"
   ]
  },
  {
   "cell_type": "code",
   "execution_count": 4,
   "metadata": {},
   "outputs": [],
   "source": [
    "COUNTRY_NAME = 'UNITED KINGDOM'"
   ]
  },
  {
   "cell_type": "code",
   "execution_count": 5,
   "metadata": {},
   "outputs": [],
   "source": [
    "ds = pd.read_csv('fossil-fuel-co2-emissions-by-nation.csv')"
   ]
  },
  {
   "cell_type": "code",
   "execution_count": 6,
   "metadata": {},
   "outputs": [],
   "source": [
    "from sklearn.preprocessing import StandardScaler"
   ]
  },
  {
   "cell_type": "code",
   "execution_count": 7,
   "metadata": {},
   "outputs": [],
   "source": [
    "ds_mexico = ds.loc[ds['Country'] == COUNTRY_NAME].values"
   ]
  },
  {
   "cell_type": "code",
   "execution_count": 8,
   "metadata": {},
   "outputs": [],
   "source": [
    "ds_mexico = ds_mexico[:,2:]"
   ]
  },
  {
   "cell_type": "code",
   "execution_count": 9,
   "metadata": {},
   "outputs": [],
   "source": [
    "sc = StandardScaler()\n",
    "ds_mexico = sc.fit_transform(ds_mexico)"
   ]
  },
  {
   "cell_type": "code",
   "execution_count": null,
   "metadata": {},
   "outputs": [],
   "source": []
  },
  {
   "cell_type": "code",
   "execution_count": 12,
   "metadata": {},
   "outputs": [
    {
     "data": {
      "text/plain": [
       "Text(0.5, 1.0, 'FOSSIL FUE USAGE OF UNITED KINGDOM')"
      ]
     },
     "execution_count": 12,
     "metadata": {},
     "output_type": "execute_result"
    },
    {
     "data": {
      "image/png": "[encoded data removed]",
      "text/plain": [
       "<Figure size 432x288 with 1 Axes>"
      ]
     },
     "metadata": {
      "needs_background": "light"
     },
     "output_type": "display_data"
    }
   ],
   "source": [
    "plt.plot(ds_mexico[:,0])\n",
    "plt.title((f'FOSSIL FUE USAGE OF {COUNTRY_NAME}'))"
   ]
  },
  {
   "cell_type": "code",
   "execution_count": 13,
   "metadata": {},
   "outputs": [],
   "source": [
    "YEARS_FALLBACK = 15\n",
    "TEST_SIZE = 15"
   ]
  },
  {
   "cell_type": "code",
   "execution_count": 14,
   "metadata": {},
   "outputs": [],
   "source": [
    "ds_mexico_train = []\n",
    "ds_mexico_trainy = []\n",
    "for i in range(ds_mexico.shape[0]-YEARS_FALLBACK-TEST_SIZE):\n",
    "    ds_mexico_train.append(ds_mexico[i:i+YEARS_FALLBACK])\n",
    "    ds_mexico_trainy.append(ds_mexico[i+1+YEARS_FALLBACK,0])\n",
    "ds_mexico_train = np.array(ds_mexico_train)\n",
    "ds_mexico_trainy = np.array(ds_mexico_trainy)"
   ]
  },
  {
   "cell_type": "code",
   "execution_count": 15,
   "metadata": {},
   "outputs": [],
   "source": [
    "fspnet = keras.Sequential([\n",
    "    keras.layers.GRU(200,return_sequences=True),\n",
    "    keras.layers.Dropout(0.15),\n",
    "    keras.layers.GRU(200,return_sequences=True),\n",
    "    keras.layers.Dropout(0.15),\n",
    "    keras.layers.GRU(200,return_sequences=True),\n",
    "    keras.layers.Dropout(0.15),\n",
    "    keras.layers.GRU(200,return_sequences=False),\n",
    "    keras.layers.Dropout(0.15),\n",
    "    keras.layers.Dense(1)\n",
    "\n",
    "\n",
    "\n",
    "\n",
    "])"
   ]
  },
  {
   "cell_type": "code",
   "execution_count": 16,
   "metadata": {},
   "outputs": [],
   "source": [
    "fspnet.compile(keras.optimizers.Adam(),keras.losses.MeanSquaredError(),metrics=['accuracy'])"
   ]
  },
  {
   "cell_type": "code",
   "execution_count": 17,
   "metadata": {},
   "outputs": [
    {
     "ename": "ValueError",
     "evalue": "Input 0 of layer \"gru\" is incompatible with the layer: expected ndim=3, found ndim=2. Full shape received: (15, 8)",
     "output_type": "error",
     "traceback": [
      "\u001b[1;31m---------------------------------------------------------------------------\u001b[0m",
      "\u001b[1;31mValueError\u001b[0m                                Traceback (most recent call last)",
      "\u001b[1;32m~\\AppData\\Local\\Temp/ipykernel_2320/312799020.py\u001b[0m in \u001b[0;36m<module>\u001b[1;34m\u001b[0m\n\u001b[1;32m----> 1\u001b[1;33m \u001b[0mfspnet\u001b[0m\u001b[1;33m.\u001b[0m\u001b[0mbuild\u001b[0m\u001b[1;33m(\u001b[0m\u001b[0minput_shape\u001b[0m\u001b[1;33m=\u001b[0m\u001b[1;33m(\u001b[0m\u001b[0mds_mexico_train\u001b[0m\u001b[1;33m.\u001b[0m\u001b[0mshape\u001b[0m\u001b[1;33m[\u001b[0m\u001b[1;36m1\u001b[0m\u001b[1;33m]\u001b[0m\u001b[1;33m,\u001b[0m\u001b[0mds_mexico_train\u001b[0m\u001b[1;33m.\u001b[0m\u001b[0mshape\u001b[0m\u001b[1;33m[\u001b[0m\u001b[1;36m2\u001b[0m\u001b[1;33m]\u001b[0m\u001b[1;33m)\u001b[0m\u001b[1;33m)\u001b[0m\u001b[1;33m\u001b[0m\u001b[1;33m\u001b[0m\u001b[0m\n\u001b[0m",
      "\u001b[1;32m~\\AppData\\Local\\Programs\\Python\\Python39\\lib\\site-packages\\keras\\engine\\sequential.py\u001b[0m in \u001b[0;36mbuild\u001b[1;34m(self, input_shape)\u001b[0m\n\u001b[0;32m    347\u001b[0m         \u001b[0minput_shape\u001b[0m \u001b[1;33m=\u001b[0m \u001b[0mtuple\u001b[0m\u001b[1;33m(\u001b[0m\u001b[0minput_shape\u001b[0m\u001b[1;33m)\u001b[0m\u001b[1;33m\u001b[0m\u001b[1;33m\u001b[0m\u001b[0m\n\u001b[0;32m    348\u001b[0m         \u001b[0mself\u001b[0m\u001b[1;33m.\u001b[0m\u001b[0m_build_input_shape\u001b[0m \u001b[1;33m=\u001b[0m \u001b[0minput_shape\u001b[0m\u001b[1;33m\u001b[0m\u001b[1;33m\u001b[0m\u001b[0m\n\u001b[1;32m--> 349\u001b[1;33m         \u001b[0msuper\u001b[0m\u001b[1;33m(\u001b[0m\u001b[0mSequential\u001b[0m\u001b[1;33m,\u001b[0m \u001b[0mself\u001b[0m\u001b[1;33m)\u001b[0m\u001b[1;33m.\u001b[0m\u001b[0mbuild\u001b[0m\u001b[1;33m(\u001b[0m\u001b[0minput_shape\u001b[0m\u001b[1;33m)\u001b[0m\u001b[1;33m\u001b[0m\u001b[1;33m\u001b[0m\u001b[0m\n\u001b[0m\u001b[0;32m    350\u001b[0m     \u001b[0mself\u001b[0m\u001b[1;33m.\u001b[0m\u001b[0mbuilt\u001b[0m \u001b[1;33m=\u001b[0m \u001b[1;32mTrue\u001b[0m\u001b[1;33m\u001b[0m\u001b[1;33m\u001b[0m\u001b[0m\n\u001b[0;32m    351\u001b[0m \u001b[1;33m\u001b[0m\u001b[0m\n",
      "\u001b[1;32m~\\AppData\\Local\\Programs\\Python\\Python39\\lib\\site-packages\\keras\\engine\\training.py\u001b[0m in \u001b[0;36mbuild\u001b[1;34m(self, input_shape)\u001b[0m\n\u001b[0;32m    438\u001b[0m               'method accepts an `inputs` argument.')\n\u001b[0;32m    439\u001b[0m         \u001b[1;32mtry\u001b[0m\u001b[1;33m:\u001b[0m\u001b[1;33m\u001b[0m\u001b[1;33m\u001b[0m\u001b[0m\n\u001b[1;32m--> 440\u001b[1;33m           \u001b[0mself\u001b[0m\u001b[1;33m.\u001b[0m\u001b[0mcall\u001b[0m\u001b[1;33m(\u001b[0m\u001b[0mx\u001b[0m\u001b[1;33m,\u001b[0m \u001b[1;33m**\u001b[0m\u001b[0mkwargs\u001b[0m\u001b[1;33m)\u001b[0m\u001b[1;33m\u001b[0m\u001b[1;33m\u001b[0m\u001b[0m\n\u001b[0m\u001b[0;32m    441\u001b[0m         \u001b[1;32mexcept\u001b[0m \u001b[1;33m(\u001b[0m\u001b[0mtf\u001b[0m\u001b[1;33m.\u001b[0m\u001b[0merrors\u001b[0m\u001b[1;33m.\u001b[0m\u001b[0mInvalidArgumentError\u001b[0m\u001b[1;33m,\u001b[0m \u001b[0mTypeError\u001b[0m\u001b[1;33m)\u001b[0m \u001b[1;32mas\u001b[0m \u001b[0me\u001b[0m\u001b[1;33m:\u001b[0m\u001b[1;33m\u001b[0m\u001b[1;33m\u001b[0m\u001b[0m\n\u001b[0;32m    442\u001b[0m           raise ValueError('You cannot build your model by calling `build` '\n",
      "\u001b[1;32m~\\AppData\\Local\\Programs\\Python\\Python39\\lib\\site-packages\\keras\\engine\\sequential.py\u001b[0m in \u001b[0;36mcall\u001b[1;34m(self, inputs, training, mask)\u001b[0m\n\u001b[0;32m    385\u001b[0m         \u001b[0mkwargs\u001b[0m\u001b[1;33m[\u001b[0m\u001b[1;34m'training'\u001b[0m\u001b[1;33m]\u001b[0m \u001b[1;33m=\u001b[0m \u001b[0mtraining\u001b[0m\u001b[1;33m\u001b[0m\u001b[1;33m\u001b[0m\u001b[0m\n\u001b[0;32m    386\u001b[0m \u001b[1;33m\u001b[0m\u001b[0m\n\u001b[1;32m--> 387\u001b[1;33m       \u001b[0moutputs\u001b[0m \u001b[1;33m=\u001b[0m \u001b[0mlayer\u001b[0m\u001b[1;33m(\u001b[0m\u001b[0minputs\u001b[0m\u001b[1;33m,\u001b[0m \u001b[1;33m**\u001b[0m\u001b[0mkwargs\u001b[0m\u001b[1;33m)\u001b[0m\u001b[1;33m\u001b[0m\u001b[1;33m\u001b[0m\u001b[0m\n\u001b[0m\u001b[0;32m    388\u001b[0m \u001b[1;33m\u001b[0m\u001b[0m\n\u001b[0;32m    389\u001b[0m       \u001b[1;32mif\u001b[0m \u001b[0mlen\u001b[0m\u001b[1;33m(\u001b[0m\u001b[0mtf\u001b[0m\u001b[1;33m.\u001b[0m\u001b[0mnest\u001b[0m\u001b[1;33m.\u001b[0m\u001b[0mflatten\u001b[0m\u001b[1;33m(\u001b[0m\u001b[0moutputs\u001b[0m\u001b[1;33m)\u001b[0m\u001b[1;33m)\u001b[0m \u001b[1;33m!=\u001b[0m \u001b[1;36m1\u001b[0m\u001b[1;33m:\u001b[0m\u001b[1;33m\u001b[0m\u001b[1;33m\u001b[0m\u001b[0m\n",
      "\u001b[1;32m~\\AppData\\Local\\Programs\\Python\\Python39\\lib\\site-packages\\keras\\layers\\recurrent.py\u001b[0m in \u001b[0;36m__call__\u001b[1;34m(self, inputs, initial_state, constants, **kwargs)\u001b[0m\n\u001b[0;32m    677\u001b[0m \u001b[1;33m\u001b[0m\u001b[0m\n\u001b[0;32m    678\u001b[0m     \u001b[1;32mif\u001b[0m \u001b[0minitial_state\u001b[0m \u001b[1;32mis\u001b[0m \u001b[1;32mNone\u001b[0m \u001b[1;32mand\u001b[0m \u001b[0mconstants\u001b[0m \u001b[1;32mis\u001b[0m \u001b[1;32mNone\u001b[0m\u001b[1;33m:\u001b[0m\u001b[1;33m\u001b[0m\u001b[1;33m\u001b[0m\u001b[0m\n\u001b[1;32m--> 679\u001b[1;33m       \u001b[1;32mreturn\u001b[0m \u001b[0msuper\u001b[0m\u001b[1;33m(\u001b[0m\u001b[0mRNN\u001b[0m\u001b[1;33m,\u001b[0m \u001b[0mself\u001b[0m\u001b[1;33m)\u001b[0m\u001b[1;33m.\u001b[0m\u001b[0m__call__\u001b[0m\u001b[1;33m(\u001b[0m\u001b[0minputs\u001b[0m\u001b[1;33m,\u001b[0m \u001b[1;33m**\u001b[0m\u001b[0mkwargs\u001b[0m\u001b[1;33m)\u001b[0m\u001b[1;33m\u001b[0m\u001b[1;33m\u001b[0m\u001b[0m\n\u001b[0m\u001b[0;32m    680\u001b[0m \u001b[1;33m\u001b[0m\u001b[0m\n\u001b[0;32m    681\u001b[0m     \u001b[1;31m# If any of `initial_state` or `constants` are specified and are Keras\u001b[0m\u001b[1;33m\u001b[0m\u001b[1;33m\u001b[0m\u001b[0m\n",
      "\u001b[1;32m~\\AppData\\Local\\Programs\\Python\\Python39\\lib\\site-packages\\keras\\utils\\traceback_utils.py\u001b[0m in \u001b[0;36merror_handler\u001b[1;34m(*args, **kwargs)\u001b[0m\n\u001b[0;32m     65\u001b[0m     \u001b[1;32mexcept\u001b[0m \u001b[0mException\u001b[0m \u001b[1;32mas\u001b[0m \u001b[0me\u001b[0m\u001b[1;33m:\u001b[0m  \u001b[1;31m# pylint: disable=broad-except\u001b[0m\u001b[1;33m\u001b[0m\u001b[1;33m\u001b[0m\u001b[0m\n\u001b[0;32m     66\u001b[0m       \u001b[0mfiltered_tb\u001b[0m \u001b[1;33m=\u001b[0m \u001b[0m_process_traceback_frames\u001b[0m\u001b[1;33m(\u001b[0m\u001b[0me\u001b[0m\u001b[1;33m.\u001b[0m\u001b[0m__traceback__\u001b[0m\u001b[1;33m)\u001b[0m\u001b[1;33m\u001b[0m\u001b[1;33m\u001b[0m\u001b[0m\n\u001b[1;32m---> 67\u001b[1;33m       \u001b[1;32mraise\u001b[0m \u001b[0me\u001b[0m\u001b[1;33m.\u001b[0m\u001b[0mwith_traceback\u001b[0m\u001b[1;33m(\u001b[0m\u001b[0mfiltered_tb\u001b[0m\u001b[1;33m)\u001b[0m \u001b[1;32mfrom\u001b[0m \u001b[1;32mNone\u001b[0m\u001b[1;33m\u001b[0m\u001b[1;33m\u001b[0m\u001b[0m\n\u001b[0m\u001b[0;32m     68\u001b[0m     \u001b[1;32mfinally\u001b[0m\u001b[1;33m:\u001b[0m\u001b[1;33m\u001b[0m\u001b[1;33m\u001b[0m\u001b[0m\n\u001b[0;32m     69\u001b[0m       \u001b[1;32mdel\u001b[0m \u001b[0mfiltered_tb\u001b[0m\u001b[1;33m\u001b[0m\u001b[1;33m\u001b[0m\u001b[0m\n",
      "\u001b[1;32m~\\AppData\\Local\\Programs\\Python\\Python39\\lib\\site-packages\\keras\\engine\\input_spec.py\u001b[0m in \u001b[0;36massert_input_compatibility\u001b[1;34m(input_spec, inputs, layer_name)\u001b[0m\n\u001b[0;32m    211\u001b[0m       \u001b[0mndim\u001b[0m \u001b[1;33m=\u001b[0m \u001b[0mshape\u001b[0m\u001b[1;33m.\u001b[0m\u001b[0mrank\u001b[0m\u001b[1;33m\u001b[0m\u001b[1;33m\u001b[0m\u001b[0m\n\u001b[0;32m    212\u001b[0m       \u001b[1;32mif\u001b[0m \u001b[0mndim\u001b[0m \u001b[1;33m!=\u001b[0m \u001b[0mspec\u001b[0m\u001b[1;33m.\u001b[0m\u001b[0mndim\u001b[0m\u001b[1;33m:\u001b[0m\u001b[1;33m\u001b[0m\u001b[1;33m\u001b[0m\u001b[0m\n\u001b[1;32m--> 213\u001b[1;33m         raise ValueError(f'Input {input_index} of layer \"{layer_name}\" '\n\u001b[0m\u001b[0;32m    214\u001b[0m                          \u001b[1;34m'is incompatible with the layer: '\u001b[0m\u001b[1;33m\u001b[0m\u001b[1;33m\u001b[0m\u001b[0m\n\u001b[0;32m    215\u001b[0m                          \u001b[1;34mf'expected ndim={spec.ndim}, found ndim={ndim}. '\u001b[0m\u001b[1;33m\u001b[0m\u001b[1;33m\u001b[0m\u001b[0m\n",
      "\u001b[1;31mValueError\u001b[0m: Input 0 of layer \"gru\" is incompatible with the layer: expected ndim=3, found ndim=2. Full shape received: (15, 8)"
     ]
    }
   ],
   "source": [
    "fspnet.build(input_shape=(ds_mexico_train.shape[1],ds_mexico_train.shape[2]))"
   ]
  },
  {
   "cell_type": "code",
   "execution_count": 18,
   "metadata": {},
   "outputs": [
    {
     "ename": "ValueError",
     "evalue": "This model has not yet been built. Build the model first by calling `build()` or by calling the model on a batch of data.",
     "output_type": "error",
     "traceback": [
      "\u001b[1;31m---------------------------------------------------------------------------\u001b[0m",
      "\u001b[1;31mValueError\u001b[0m                                Traceback (most recent call last)",
      "\u001b[1;32m~\\AppData\\Local\\Temp/ipykernel_2320/615541050.py\u001b[0m in \u001b[0;36m<module>\u001b[1;34m\u001b[0m\n\u001b[1;32m----> 1\u001b[1;33m \u001b[0mfspnet\u001b[0m\u001b[1;33m.\u001b[0m\u001b[0msummary\u001b[0m\u001b[1;33m(\u001b[0m\u001b[1;33m)\u001b[0m\u001b[1;33m\u001b[0m\u001b[1;33m\u001b[0m\u001b[0m\n\u001b[0m",
      "\u001b[1;32m~\\AppData\\Local\\Programs\\Python\\Python39\\lib\\site-packages\\keras\\engine\\training.py\u001b[0m in \u001b[0;36msummary\u001b[1;34m(self, line_length, positions, print_fn, expand_nested)\u001b[0m\n\u001b[0;32m   2577\u001b[0m     \"\"\"\n\u001b[0;32m   2578\u001b[0m     \u001b[1;32mif\u001b[0m \u001b[1;32mnot\u001b[0m \u001b[0mself\u001b[0m\u001b[1;33m.\u001b[0m\u001b[0mbuilt\u001b[0m\u001b[1;33m:\u001b[0m\u001b[1;33m\u001b[0m\u001b[1;33m\u001b[0m\u001b[0m\n\u001b[1;32m-> 2579\u001b[1;33m       raise ValueError(\n\u001b[0m\u001b[0;32m   2580\u001b[0m           \u001b[1;34m'This model has not yet been built. '\u001b[0m\u001b[1;33m\u001b[0m\u001b[1;33m\u001b[0m\u001b[0m\n\u001b[0;32m   2581\u001b[0m           \u001b[1;34m'Build the model first by calling `build()` or by calling '\u001b[0m\u001b[1;33m\u001b[0m\u001b[1;33m\u001b[0m\u001b[0m\n",
      "\u001b[1;31mValueError\u001b[0m: This model has not yet been built. Build the model first by calling `build()` or by calling the model on a batch of data."
     ]
    }
   ],
   "source": [
    "fspnet.summary()"
   ]
  },
  {
   "cell_type": "code",
   "execution_count": 19,
   "metadata": {},
   "outputs": [
    {
     "name": "stdout",
     "output_type": "stream",
     "text": [
      "Epoch 1/200\n",
      "8/8 [==============================] - 5s 22ms/step - loss: 0.3230 - accuracy: 0.0000e+00\n",
      "Epoch 2/200\n",
      "8/8 [==============================] - 0s 19ms/step - loss: 0.0494 - accuracy: 0.0000e+00\n",
      "Epoch 3/200\n",
      "8/8 [==============================] - 0s 11ms/step - loss: 0.0328 - accuracy: 0.0000e+00\n",
      "Epoch 4/200\n",
      "8/8 [==============================] - 0s 11ms/step - loss: 0.0399 - accuracy: 0.0000e+00\n",
      "Epoch 5/200\n",
      "8/8 [==============================] - 0s 12ms/step - loss: 0.0354 - accuracy: 0.0000e+00\n",
      "Epoch 6/200\n",
      "8/8 [==============================] - 0s 12ms/step - loss: 0.0292 - accuracy: 0.0000e+00\n",
      "Epoch 7/200\n",
      "8/8 [==============================] - 0s 11ms/step - loss: 0.0261 - accuracy: 0.0000e+00\n",
      "Epoch 8/200\n",
      "8/8 [==============================] - 0s 11ms/step - loss: 0.0249 - accuracy: 0.0000e+00\n",
      "Epoch 9/200\n",
      "8/8 [==============================] - 0s 13ms/step - loss: 0.0242 - accuracy: 0.0000e+00\n",
      "Epoch 10/200\n",
      "8/8 [==============================] - 0s 12ms/step - loss: 0.0190 - accuracy: 0.0000e+00\n",
      "Epoch 11/200\n",
      "8/8 [==============================] - 0s 11ms/step - loss: 0.0179 - accuracy: 0.0000e+00\n",
      "Epoch 12/200\n",
      "8/8 [==============================] - 0s 11ms/step - loss: 0.0195 - accuracy: 0.0000e+00\n",
      "Epoch 13/200\n",
      "8/8 [==============================] - 0s 11ms/step - loss: 0.0179 - accuracy: 0.0000e+00\n",
      "Epoch 14/200\n",
      "8/8 [==============================] - 0s 11ms/step - loss: 0.0188 - accuracy: 0.0000e+00\n",
      "Epoch 15/200\n",
      "8/8 [==============================] - 0s 11ms/step - loss: 0.0205 - accuracy: 0.0000e+00\n",
      "Epoch 16/200\n",
      "8/8 [==============================] - 0s 11ms/step - loss: 0.0249 - accuracy: 0.0000e+00\n",
      "Epoch 17/200\n",
      "8/8 [==============================] - 0s 12ms/step - loss: 0.0170 - accuracy: 0.0000e+00\n",
      "Epoch 18/200\n",
      "8/8 [==============================] - 0s 11ms/step - loss: 0.0171 - accuracy: 0.0000e+00\n",
      "Epoch 19/200\n",
      "8/8 [==============================] - 0s 11ms/step - loss: 0.0186 - accuracy: 0.0000e+00\n",
      "Epoch 20/200\n",
      "8/8 [==============================] - 0s 12ms/step - loss: 0.0156 - accuracy: 0.0000e+00\n",
      "Epoch 21/200\n",
      "8/8 [==============================] - 0s 11ms/step - loss: 0.0167 - accuracy: 0.0000e+00\n",
      "Epoch 22/200\n",
      "8/8 [==============================] - 0s 11ms/step - loss: 0.0184 - accuracy: 0.0000e+00\n",
      "Epoch 23/200\n",
      "8/8 [==============================] - 0s 10ms/step - loss: 0.0210 - accuracy: 0.0000e+00\n",
      "Epoch 24/200\n",
      "8/8 [==============================] - 0s 11ms/step - loss: 0.0216 - accuracy: 0.0000e+00\n",
      "Epoch 25/200\n",
      "8/8 [==============================] - 0s 10ms/step - loss: 0.0171 - accuracy: 0.0000e+00\n",
      "Epoch 26/200\n",
      "8/8 [==============================] - 0s 10ms/step - loss: 0.0176 - accuracy: 0.0000e+00\n",
      "Epoch 27/200\n",
      "8/8 [==============================] - 0s 11ms/step - loss: 0.0148 - accuracy: 0.0000e+00\n",
      "Epoch 28/200\n",
      "8/8 [==============================] - 0s 12ms/step - loss: 0.0173 - accuracy: 0.0000e+00\n",
      "Epoch 29/200\n",
      "8/8 [==============================] - 0s 12ms/step - loss: 0.0162 - accuracy: 0.0000e+00\n",
      "Epoch 30/200\n",
      "8/8 [==============================] - 0s 12ms/step - loss: 0.0139 - accuracy: 0.0000e+00\n",
      "Epoch 31/200\n",
      "8/8 [==============================] - 0s 12ms/step - loss: 0.0167 - accuracy: 0.0000e+00\n",
      "Epoch 32/200\n",
      "8/8 [==============================] - 0s 11ms/step - loss: 0.0176 - accuracy: 0.0000e+00\n",
      "Epoch 33/200\n",
      "8/8 [==============================] - 0s 11ms/step - loss: 0.0184 - accuracy: 0.0000e+00\n",
      "Epoch 34/200\n",
      "8/8 [==============================] - 0s 11ms/step - loss: 0.0155 - accuracy: 0.0000e+00\n",
      "Epoch 35/200\n",
      "8/8 [==============================] - 0s 11ms/step - loss: 0.0167 - accuracy: 0.0000e+00\n",
      "Epoch 36/200\n",
      "8/8 [==============================] - 0s 10ms/step - loss: 0.0187 - accuracy: 0.0000e+00\n",
      "Epoch 37/200\n",
      "8/8 [==============================] - 0s 11ms/step - loss: 0.0169 - accuracy: 0.0000e+00\n",
      "Epoch 38/200\n",
      "8/8 [==============================] - 0s 11ms/step - loss: 0.0181 - accuracy: 0.0000e+00\n",
      "Epoch 39/200\n",
      "8/8 [==============================] - 0s 11ms/step - loss: 0.0192 - accuracy: 0.0000e+00\n",
      "Epoch 40/200\n",
      "8/8 [==============================] - 0s 11ms/step - loss: 0.0157 - accuracy: 0.0000e+00\n",
      "Epoch 41/200\n",
      "8/8 [==============================] - 0s 11ms/step - loss: 0.0177 - accuracy: 0.0000e+00\n",
      "Epoch 42/200\n",
      "8/8 [==============================] - 0s 11ms/step - loss: 0.0162 - accuracy: 0.0000e+00\n",
      "Epoch 43/200\n",
      "8/8 [==============================] - 0s 11ms/step - loss: 0.0186 - accuracy: 0.0000e+00\n",
      "Epoch 44/200\n",
      "8/8 [==============================] - 0s 11ms/step - loss: 0.0225 - accuracy: 0.0000e+00\n",
      "Epoch 45/200\n",
      "8/8 [==============================] - 0s 11ms/step - loss: 0.0215 - accuracy: 0.0000e+00\n",
      "Epoch 46/200\n",
      "8/8 [==============================] - 0s 11ms/step - loss: 0.0193 - accuracy: 0.0000e+00\n",
      "Epoch 47/200\n",
      "8/8 [==============================] - 0s 11ms/step - loss: 0.0173 - accuracy: 0.0000e+00\n",
      "Epoch 48/200\n",
      "8/8 [==============================] - 0s 11ms/step - loss: 0.0180 - accuracy: 0.0000e+00\n",
      "Epoch 49/200\n",
      "8/8 [==============================] - 0s 11ms/step - loss: 0.0202 - accuracy: 0.0000e+00\n",
      "Epoch 50/200\n",
      "8/8 [==============================] - 0s 10ms/step - loss: 0.0160 - accuracy: 0.0000e+00\n",
      "Epoch 51/200\n",
      "8/8 [==============================] - 0s 11ms/step - loss: 0.0139 - accuracy: 0.0000e+00\n",
      "Epoch 52/200\n",
      "8/8 [==============================] - 0s 11ms/step - loss: 0.0153 - accuracy: 0.0000e+00\n",
      "Epoch 53/200\n",
      "8/8 [==============================] - 0s 11ms/step - loss: 0.0180 - accuracy: 0.0000e+00\n",
      "Epoch 54/200\n",
      "8/8 [==============================] - 0s 10ms/step - loss: 0.0169 - accuracy: 0.0000e+00\n",
      "Epoch 55/200\n",
      "8/8 [==============================] - 0s 11ms/step - loss: 0.0160 - accuracy: 0.0000e+00\n",
      "Epoch 56/200\n",
      "8/8 [==============================] - 0s 11ms/step - loss: 0.0181 - accuracy: 0.0000e+00\n",
      "Epoch 57/200\n",
      "8/8 [==============================] - 0s 11ms/step - loss: 0.0159 - accuracy: 0.0000e+00\n",
      "Epoch 58/200\n",
      "8/8 [==============================] - 0s 11ms/step - loss: 0.0172 - accuracy: 0.0000e+00\n",
      "Epoch 59/200\n",
      "8/8 [==============================] - 0s 11ms/step - loss: 0.0150 - accuracy: 0.0000e+00\n",
      "Epoch 60/200\n",
      "8/8 [==============================] - 0s 11ms/step - loss: 0.0153 - accuracy: 0.0000e+00\n",
      "Epoch 61/200\n",
      "8/8 [==============================] - 0s 11ms/step - loss: 0.0176 - accuracy: 0.0000e+00\n",
      "Epoch 62/200\n",
      "8/8 [==============================] - 0s 11ms/step - loss: 0.0165 - accuracy: 0.0000e+00\n",
      "Epoch 63/200\n",
      "8/8 [==============================] - 0s 11ms/step - loss: 0.0186 - accuracy: 0.0000e+00\n",
      "Epoch 64/200\n",
      "8/8 [==============================] - 0s 11ms/step - loss: 0.0177 - accuracy: 0.0000e+00\n",
      "Epoch 65/200\n",
      "8/8 [==============================] - 0s 11ms/step - loss: 0.0156 - accuracy: 0.0000e+00\n",
      "Epoch 66/200\n",
      "8/8 [==============================] - 0s 11ms/step - loss: 0.0188 - accuracy: 0.0000e+00\n",
      "Epoch 67/200\n",
      "8/8 [==============================] - 0s 11ms/step - loss: 0.0208 - accuracy: 0.0000e+00\n",
      "Epoch 68/200\n",
      "8/8 [==============================] - 0s 12ms/step - loss: 0.0137 - accuracy: 0.0000e+00\n",
      "Epoch 69/200\n",
      "8/8 [==============================] - 0s 12ms/step - loss: 0.0223 - accuracy: 0.0000e+00\n",
      "Epoch 70/200\n",
      "8/8 [==============================] - 0s 11ms/step - loss: 0.0210 - accuracy: 0.0000e+00\n",
      "Epoch 71/200\n",
      "8/8 [==============================] - 0s 11ms/step - loss: 0.0175 - accuracy: 0.0000e+00\n",
      "Epoch 72/200\n",
      "8/8 [==============================] - 0s 11ms/step - loss: 0.0175 - accuracy: 0.0000e+00\n",
      "Epoch 73/200\n",
      "8/8 [==============================] - 0s 11ms/step - loss: 0.0163 - accuracy: 0.0000e+00\n",
      "Epoch 74/200\n",
      "8/8 [==============================] - 0s 12ms/step - loss: 0.0136 - accuracy: 0.0000e+00\n",
      "Epoch 75/200\n",
      "8/8 [==============================] - 0s 12ms/step - loss: 0.0136 - accuracy: 0.0000e+00\n",
      "Epoch 76/200\n",
      "8/8 [==============================] - 0s 11ms/step - loss: 0.0160 - accuracy: 0.0000e+00\n",
      "Epoch 77/200\n",
      "8/8 [==============================] - 0s 13ms/step - loss: 0.0162 - accuracy: 0.0000e+00\n",
      "Epoch 78/200\n",
      "8/8 [==============================] - 0s 13ms/step - loss: 0.0151 - accuracy: 0.0000e+00\n",
      "Epoch 79/200\n",
      "8/8 [==============================] - 0s 13ms/step - loss: 0.0179 - accuracy: 0.0000e+00\n",
      "Epoch 80/200\n",
      "8/8 [==============================] - 0s 13ms/step - loss: 0.0140 - accuracy: 0.0000e+00\n",
      "Epoch 81/200\n",
      "8/8 [==============================] - 0s 14ms/step - loss: 0.0157 - accuracy: 0.0000e+00\n",
      "Epoch 82/200\n",
      "8/8 [==============================] - 0s 15ms/step - loss: 0.0211 - accuracy: 0.0000e+00\n",
      "Epoch 83/200\n",
      "8/8 [==============================] - 0s 15ms/step - loss: 0.0166 - accuracy: 0.0000e+00\n",
      "Epoch 84/200\n",
      "8/8 [==============================] - 0s 13ms/step - loss: 0.0128 - accuracy: 0.0000e+00\n",
      "Epoch 85/200\n",
      "8/8 [==============================] - 0s 13ms/step - loss: 0.0139 - accuracy: 0.0000e+00\n",
      "Epoch 86/200\n",
      "8/8 [==============================] - 0s 15ms/step - loss: 0.0141 - accuracy: 0.0000e+00\n",
      "Epoch 87/200\n",
      "8/8 [==============================] - 0s 14ms/step - loss: 0.0154 - accuracy: 0.0000e+00\n",
      "Epoch 88/200\n",
      "8/8 [==============================] - 0s 13ms/step - loss: 0.0165 - accuracy: 0.0000e+00\n",
      "Epoch 89/200\n",
      "8/8 [==============================] - 0s 14ms/step - loss: 0.0142 - accuracy: 0.0000e+00\n",
      "Epoch 90/200\n",
      "8/8 [==============================] - 0s 14ms/step - loss: 0.0150 - accuracy: 0.0000e+00\n",
      "Epoch 91/200\n",
      "8/8 [==============================] - 0s 13ms/step - loss: 0.0148 - accuracy: 0.0000e+00\n",
      "Epoch 92/200\n",
      "8/8 [==============================] - 0s 13ms/step - loss: 0.0211 - accuracy: 0.0000e+00\n",
      "Epoch 93/200\n",
      "8/8 [==============================] - 0s 13ms/step - loss: 0.0180 - accuracy: 0.0000e+00\n",
      "Epoch 94/200\n",
      "8/8 [==============================] - 0s 14ms/step - loss: 0.0165 - accuracy: 0.0000e+00\n",
      "Epoch 95/200\n",
      "8/8 [==============================] - 0s 13ms/step - loss: 0.0144 - accuracy: 0.0000e+00\n",
      "Epoch 96/200\n",
      "8/8 [==============================] - 0s 12ms/step - loss: 0.0148 - accuracy: 0.0000e+00\n",
      "Epoch 97/200\n",
      "8/8 [==============================] - 0s 13ms/step - loss: 0.0154 - accuracy: 0.0000e+00\n",
      "Epoch 98/200\n",
      "8/8 [==============================] - 0s 12ms/step - loss: 0.0165 - accuracy: 0.0000e+00\n",
      "Epoch 99/200\n",
      "8/8 [==============================] - 0s 13ms/step - loss: 0.0135 - accuracy: 0.0000e+00\n",
      "Epoch 100/200\n",
      "8/8 [==============================] - 0s 13ms/step - loss: 0.0139 - accuracy: 0.0000e+00\n",
      "Epoch 101/200\n",
      "8/8 [==============================] - 0s 11ms/step - loss: 0.0184 - accuracy: 0.0000e+00\n",
      "Epoch 102/200\n",
      "8/8 [==============================] - 0s 10ms/step - loss: 0.0183 - accuracy: 0.0000e+00\n",
      "Epoch 103/200\n",
      "8/8 [==============================] - 0s 12ms/step - loss: 0.0153 - accuracy: 0.0000e+00\n",
      "Epoch 104/200\n",
      "8/8 [==============================] - 0s 13ms/step - loss: 0.0156 - accuracy: 0.0000e+00\n",
      "Epoch 105/200\n",
      "8/8 [==============================] - 0s 13ms/step - loss: 0.0157 - accuracy: 0.0000e+00\n",
      "Epoch 106/200\n",
      "8/8 [==============================] - 0s 13ms/step - loss: 0.0150 - accuracy: 0.0000e+00\n",
      "Epoch 107/200\n",
      "8/8 [==============================] - 0s 13ms/step - loss: 0.0156 - accuracy: 0.0000e+00\n",
      "Epoch 108/200\n",
      "8/8 [==============================] - 0s 12ms/step - loss: 0.0144 - accuracy: 0.0000e+00\n",
      "Epoch 109/200\n",
      "8/8 [==============================] - 0s 12ms/step - loss: 0.0150 - accuracy: 0.0000e+00\n",
      "Epoch 110/200\n",
      "8/8 [==============================] - 0s 12ms/step - loss: 0.0189 - accuracy: 0.0000e+00\n",
      "Epoch 111/200\n",
      "8/8 [==============================] - 0s 12ms/step - loss: 0.0149 - accuracy: 0.0000e+00\n",
      "Epoch 112/200\n",
      "8/8 [==============================] - 0s 12ms/step - loss: 0.0173 - accuracy: 0.0000e+00\n",
      "Epoch 113/200\n",
      "8/8 [==============================] - 0s 12ms/step - loss: 0.0177 - accuracy: 0.0000e+00\n",
      "Epoch 114/200\n",
      "8/8 [==============================] - 0s 12ms/step - loss: 0.0167 - accuracy: 0.0000e+00\n",
      "Epoch 115/200\n",
      "8/8 [==============================] - 0s 11ms/step - loss: 0.0159 - accuracy: 0.0000e+00\n",
      "Epoch 116/200\n",
      "8/8 [==============================] - 0s 12ms/step - loss: 0.0146 - accuracy: 0.0000e+00\n",
      "Epoch 117/200\n",
      "8/8 [==============================] - 0s 13ms/step - loss: 0.0152 - accuracy: 0.0000e+00\n",
      "Epoch 118/200\n",
      "8/8 [==============================] - 0s 12ms/step - loss: 0.0155 - accuracy: 0.0000e+00\n",
      "Epoch 119/200\n",
      "8/8 [==============================] - 0s 12ms/step - loss: 0.0156 - accuracy: 0.0000e+00\n",
      "Epoch 120/200\n",
      "8/8 [==============================] - 0s 12ms/step - loss: 0.0140 - accuracy: 0.0000e+00\n",
      "Epoch 121/200\n",
      "8/8 [==============================] - 0s 12ms/step - loss: 0.0166 - accuracy: 0.0000e+00\n",
      "Epoch 122/200\n",
      "8/8 [==============================] - 0s 12ms/step - loss: 0.0181 - accuracy: 0.0000e+00\n",
      "Epoch 123/200\n",
      "8/8 [==============================] - 0s 13ms/step - loss: 0.0150 - accuracy: 0.0000e+00\n",
      "Epoch 124/200\n",
      "8/8 [==============================] - 0s 12ms/step - loss: 0.0136 - accuracy: 0.0000e+00\n",
      "Epoch 125/200\n",
      "8/8 [==============================] - 0s 12ms/step - loss: 0.0132 - accuracy: 0.0000e+00\n",
      "Epoch 126/200\n",
      "8/8 [==============================] - 0s 12ms/step - loss: 0.0131 - accuracy: 0.0000e+00\n",
      "Epoch 127/200\n",
      "8/8 [==============================] - 0s 12ms/step - loss: 0.0127 - accuracy: 0.0000e+00\n",
      "Epoch 128/200\n",
      "8/8 [==============================] - 0s 12ms/step - loss: 0.0134 - accuracy: 0.0000e+00\n",
      "Epoch 129/200\n",
      "8/8 [==============================] - 0s 12ms/step - loss: 0.0131 - accuracy: 0.0000e+00\n",
      "Epoch 130/200\n",
      "8/8 [==============================] - 0s 12ms/step - loss: 0.0144 - accuracy: 0.0000e+00\n",
      "Epoch 131/200\n",
      "8/8 [==============================] - 0s 11ms/step - loss: 0.0142 - accuracy: 0.0000e+00\n",
      "Epoch 132/200\n",
      "8/8 [==============================] - 0s 12ms/step - loss: 0.0149 - accuracy: 0.0000e+00\n",
      "Epoch 133/200\n",
      "8/8 [==============================] - 0s 13ms/step - loss: 0.0135 - accuracy: 0.0000e+00\n",
      "Epoch 134/200\n",
      "8/8 [==============================] - 0s 12ms/step - loss: 0.0142 - accuracy: 0.0000e+00\n",
      "Epoch 135/200\n",
      "8/8 [==============================] - 0s 12ms/step - loss: 0.0124 - accuracy: 0.0000e+00\n",
      "Epoch 136/200\n",
      "8/8 [==============================] - 0s 12ms/step - loss: 0.0131 - accuracy: 0.0000e+00\n",
      "Epoch 137/200\n",
      "8/8 [==============================] - 0s 11ms/step - loss: 0.0132 - accuracy: 0.0000e+00\n",
      "Epoch 138/200\n",
      "8/8 [==============================] - 0s 12ms/step - loss: 0.0125 - accuracy: 0.0000e+00\n",
      "Epoch 139/200\n",
      "8/8 [==============================] - 0s 11ms/step - loss: 0.0143 - accuracy: 0.0000e+00\n",
      "Epoch 140/200\n",
      "8/8 [==============================] - 0s 12ms/step - loss: 0.0179 - accuracy: 0.0000e+00\n",
      "Epoch 141/200\n",
      "8/8 [==============================] - 0s 13ms/step - loss: 0.0138 - accuracy: 0.0000e+00\n",
      "Epoch 142/200\n",
      "8/8 [==============================] - 0s 13ms/step - loss: 0.0141 - accuracy: 0.0000e+00\n",
      "Epoch 143/200\n",
      "8/8 [==============================] - 0s 14ms/step - loss: 0.0142 - accuracy: 0.0000e+00\n",
      "Epoch 144/200\n",
      "8/8 [==============================] - 0s 14ms/step - loss: 0.0129 - accuracy: 0.0000e+00\n",
      "Epoch 145/200\n",
      "8/8 [==============================] - 0s 13ms/step - loss: 0.0162 - accuracy: 0.0000e+00\n",
      "Epoch 146/200\n",
      "8/8 [==============================] - 0s 13ms/step - loss: 0.0127 - accuracy: 0.0000e+00\n",
      "Epoch 147/200\n",
      "8/8 [==============================] - 0s 13ms/step - loss: 0.0135 - accuracy: 0.0000e+00\n",
      "Epoch 148/200\n",
      "8/8 [==============================] - 0s 13ms/step - loss: 0.0127 - accuracy: 0.0000e+00\n",
      "Epoch 149/200\n",
      "8/8 [==============================] - 0s 12ms/step - loss: 0.0150 - accuracy: 0.0000e+00\n",
      "Epoch 150/200\n",
      "8/8 [==============================] - 0s 13ms/step - loss: 0.0129 - accuracy: 0.0000e+00\n",
      "Epoch 151/200\n",
      "8/8 [==============================] - 0s 14ms/step - loss: 0.0165 - accuracy: 0.0000e+00\n",
      "Epoch 152/200\n",
      "8/8 [==============================] - 0s 14ms/step - loss: 0.0145 - accuracy: 0.0000e+00\n",
      "Epoch 153/200\n",
      "8/8 [==============================] - 0s 13ms/step - loss: 0.0134 - accuracy: 0.0000e+00\n",
      "Epoch 154/200\n",
      "8/8 [==============================] - 0s 13ms/step - loss: 0.0128 - accuracy: 0.0000e+00\n",
      "Epoch 155/200\n",
      "8/8 [==============================] - 0s 13ms/step - loss: 0.0137 - accuracy: 0.0000e+00\n",
      "Epoch 156/200\n",
      "8/8 [==============================] - 0s 13ms/step - loss: 0.0161 - accuracy: 0.0000e+00\n",
      "Epoch 157/200\n",
      "8/8 [==============================] - 0s 13ms/step - loss: 0.0160 - accuracy: 0.0000e+00\n",
      "Epoch 158/200\n",
      "8/8 [==============================] - 0s 14ms/step - loss: 0.0127 - accuracy: 0.0000e+00\n",
      "Epoch 159/200\n",
      "8/8 [==============================] - 0s 13ms/step - loss: 0.0167 - accuracy: 0.0000e+00\n",
      "Epoch 160/200\n",
      "8/8 [==============================] - 0s 11ms/step - loss: 0.0168 - accuracy: 0.0000e+00\n",
      "Epoch 161/200\n",
      "8/8 [==============================] - 0s 12ms/step - loss: 0.0163 - accuracy: 0.0000e+00\n",
      "Epoch 162/200\n",
      "8/8 [==============================] - 0s 13ms/step - loss: 0.0126 - accuracy: 0.0000e+00\n",
      "Epoch 163/200\n",
      "8/8 [==============================] - 0s 12ms/step - loss: 0.0123 - accuracy: 0.0000e+00\n",
      "Epoch 164/200\n",
      "8/8 [==============================] - 0s 12ms/step - loss: 0.0134 - accuracy: 0.0000e+00\n",
      "Epoch 165/200\n",
      "8/8 [==============================] - 0s 12ms/step - loss: 0.0131 - accuracy: 0.0000e+00\n",
      "Epoch 166/200\n",
      "8/8 [==============================] - 0s 12ms/step - loss: 0.0129 - accuracy: 0.0000e+00\n",
      "Epoch 167/200\n",
      "8/8 [==============================] - 0s 11ms/step - loss: 0.0145 - accuracy: 0.0000e+00\n",
      "Epoch 168/200\n",
      "8/8 [==============================] - 0s 12ms/step - loss: 0.0126 - accuracy: 0.0000e+00\n",
      "Epoch 169/200\n",
      "8/8 [==============================] - 0s 12ms/step - loss: 0.0156 - accuracy: 0.0000e+00\n",
      "Epoch 170/200\n",
      "8/8 [==============================] - 0s 13ms/step - loss: 0.0156 - accuracy: 0.0000e+00\n",
      "Epoch 171/200\n",
      "8/8 [==============================] - 0s 11ms/step - loss: 0.0115 - accuracy: 0.0000e+00\n",
      "Epoch 172/200\n",
      "8/8 [==============================] - 0s 11ms/step - loss: 0.0140 - accuracy: 0.0000e+00\n",
      "Epoch 173/200\n",
      "8/8 [==============================] - 0s 11ms/step - loss: 0.0130 - accuracy: 0.0000e+00\n",
      "Epoch 174/200\n",
      "8/8 [==============================] - 0s 12ms/step - loss: 0.0115 - accuracy: 0.0000e+00\n",
      "Epoch 175/200\n",
      "8/8 [==============================] - 0s 12ms/step - loss: 0.0149 - accuracy: 0.0000e+00\n",
      "Epoch 176/200\n",
      "8/8 [==============================] - 0s 12ms/step - loss: 0.0124 - accuracy: 0.0000e+00\n",
      "Epoch 177/200\n",
      "8/8 [==============================] - 0s 12ms/step - loss: 0.0119 - accuracy: 0.0000e+00\n",
      "Epoch 178/200\n",
      "8/8 [==============================] - 0s 12ms/step - loss: 0.0118 - accuracy: 0.0000e+00\n",
      "Epoch 179/200\n",
      "8/8 [==============================] - 0s 13ms/step - loss: 0.0115 - accuracy: 0.0000e+00\n",
      "Epoch 180/200\n",
      "8/8 [==============================] - 0s 14ms/step - loss: 0.0121 - accuracy: 0.0000e+00\n",
      "Epoch 181/200\n",
      "8/8 [==============================] - 0s 13ms/step - loss: 0.0124 - accuracy: 0.0000e+00\n",
      "Epoch 182/200\n",
      "8/8 [==============================] - 0s 13ms/step - loss: 0.0139 - accuracy: 0.0000e+00\n",
      "Epoch 183/200\n",
      "8/8 [==============================] - 0s 12ms/step - loss: 0.0125 - accuracy: 0.0000e+00\n",
      "Epoch 184/200\n",
      "8/8 [==============================] - 0s 12ms/step - loss: 0.0115 - accuracy: 0.0000e+00\n",
      "Epoch 185/200\n",
      "8/8 [==============================] - 0s 13ms/step - loss: 0.0121 - accuracy: 0.0000e+00\n",
      "Epoch 186/200\n",
      "8/8 [==============================] - 0s 13ms/step - loss: 0.0124 - accuracy: 0.0000e+00\n",
      "Epoch 187/200\n",
      "8/8 [==============================] - 0s 12ms/step - loss: 0.0129 - accuracy: 0.0000e+00\n",
      "Epoch 188/200\n",
      "8/8 [==============================] - 0s 12ms/step - loss: 0.0118 - accuracy: 0.0000e+00\n",
      "Epoch 189/200\n",
      "8/8 [==============================] - 0s 12ms/step - loss: 0.0106 - accuracy: 0.0000e+00\n",
      "Epoch 190/200\n",
      "8/8 [==============================] - 0s 11ms/step - loss: 0.0110 - accuracy: 0.0000e+00\n",
      "Epoch 191/200\n",
      "8/8 [==============================] - 0s 11ms/step - loss: 0.0115 - accuracy: 0.0000e+00\n",
      "Epoch 192/200\n",
      "8/8 [==============================] - 0s 11ms/step - loss: 0.0108 - accuracy: 0.0000e+00\n",
      "Epoch 193/200\n",
      "8/8 [==============================] - 0s 12ms/step - loss: 0.0120 - accuracy: 0.0000e+00\n",
      "Epoch 194/200\n",
      "8/8 [==============================] - 0s 12ms/step - loss: 0.0120 - accuracy: 0.0000e+00\n",
      "Epoch 195/200\n",
      "8/8 [==============================] - 0s 11ms/step - loss: 0.0120 - accuracy: 0.0000e+00\n",
      "Epoch 196/200\n",
      "8/8 [==============================] - 0s 11ms/step - loss: 0.0145 - accuracy: 0.0000e+00\n",
      "Epoch 197/200\n",
      "8/8 [==============================] - 0s 11ms/step - loss: 0.0148 - accuracy: 0.0000e+00\n",
      "Epoch 198/200\n",
      "8/8 [==============================] - 0s 12ms/step - loss: 0.0152 - accuracy: 0.0000e+00\n",
      "Epoch 199/200\n",
      "8/8 [==============================] - 0s 12ms/step - loss: 0.0122 - accuracy: 0.0000e+00\n",
      "Epoch 200/200\n",
      "8/8 [==============================] - 0s 12ms/step - loss: 0.0121 - accuracy: 0.0000e+00\n"
     ]
    },
    {
     "data": {
      "text/plain": [
       "<keras.callbacks.History at 0x24c97e805e0>"
      ]
     },
     "execution_count": 19,
     "metadata": {},
     "output_type": "execute_result"
    }
   ],
   "source": [
    "fspnet.fit(ds_mexico_train,ds_mexico_trainy,32,200)"
   ]
  },
  {
   "cell_type": "code",
   "execution_count": 20,
   "metadata": {},
   "outputs": [],
   "source": [
    "mex_test_y = []\n",
    "mex_testx = []\n",
    "for i in range(YEARS_FALLBACK+TEST_SIZE):\n",
    "    mex_testx.append(ds_mexico[i:i+YEARS_FALLBACK])\n",
    "    mex_test_y.append(ds_mexico[i+1+YEARS_FALLBACK,0])\n",
    "mex_testx = np.array(mex_testx)\n",
    "mex_test_y = np.array(mex_test_y)"
   ]
  },
  {
   "cell_type": "code",
   "execution_count": 21,
   "metadata": {},
   "outputs": [],
   "source": [
    "prediction = fspnet.predict_on_batch(mex_testx)"
   ]
  },
  {
   "cell_type": "code",
   "execution_count": 26,
   "metadata": {},
   "outputs": [
    {
     "data": {
      "text/plain": [
       "(-2.0, -1.0)"
      ]
     },
     "execution_count": 26,
     "metadata": {},
     "output_type": "execute_result"
    },
    {
     "data": {
      "image/png": "[encoded data removed]",
      "text/plain": [
       "<Figure size 432x288 with 1 Axes>"
      ]
     },
     "metadata": {
      "needs_background": "light"
     },
     "output_type": "display_data"
    }
   ],
   "source": [
    "plt.plot(prediction)\n",
    "plt.plot(mex_test_y)\n",
    "plt.ylim((-2,-1))"
   ]
  },
  {
   "cell_type": "code",
   "execution_count": null,
   "metadata": {},
   "outputs": [],
   "source": []
  }
 ],
 "metadata": {
  "interpreter": {
   "hash": "468f25ad0239460415b7e6b7483d5c8f7213894121f6fb96c4cb6ef93fffe534"
  },
  "kernelspec": {
   "display_name": "Python 3.9.7 64-bit",
   "language": "python",
   "name": "python3"
  },
  "language_info": {
   "codemirror_mode": {
    "name": "ipython",
    "version": 3
   },
   "file_extension": ".py",
   "mimetype": "text/x-python",
   "name": "python",
   "nbconvert_exporter": "python",
   "pygments_lexer": "ipython3",
   "version": "3.9.7"
  },
  "orig_nbformat": 4
 },
 "nbformat": 4,
 "nbformat_minor": 2
}
